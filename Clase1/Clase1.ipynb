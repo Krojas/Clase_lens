{
 "cells": [
  {
   "cell_type": "markdown",
   "metadata": {},
   "source": [
    "# Antes de empezar con LENSTRONOMY"
   ]
  },
  {
   "cell_type": "markdown",
   "metadata": {},
   "source": [
    "Objetivos de la clase\n",
    "\n",
    "1. Configurar un **Conda Environment** con todos los paquetes necesarios para este tutorial (y trabajar de forma segura).\n",
    "2. Familiarizarse con la utilización de **Jupyter notebooks.**\n",
    "4. Manejar archivos usando **Pandas**.\n",
    "3. Manejar archivos **.fits** usando **Astropy**.\n",
    "5. Entender lo básico de **Github**.\n",
    "6. Un pequeño paseo por el repositorio de **Lenstronomy**.\n"
   ]
  },
  {
   "cell_type": "markdown",
   "metadata": {},
   "source": [
    "## Paquetes esenciales/muy utiles de python "
   ]
  },
  {
   "cell_type": "code",
   "execution_count": null,
   "metadata": {},
   "outputs": [],
   "source": [
    "#importan paquetes:\n",
    "import matplotlib.pyplot as plt\n",
    "import numpy as np\n",
    "import pandas as pd "
   ]
  },
  {
   "cell_type": "code",
   "execution_count": null,
   "metadata": {},
   "outputs": [],
   "source": [
    "path = '/home/karina/Dropbox/Class_lens/Clase1/'\n",
    "\n",
    "df = pd.read_csv(path+'castle1.csv')\n",
    "df"
   ]
  },
  {
   "cell_type": "code",
   "execution_count": null,
   "metadata": {},
   "outputs": [],
   "source": [
    "#para ver el nombre de las columnas\n",
    "df.columns"
   ]
  },
  {
   "cell_type": "code",
   "execution_count": null,
   "metadata": {},
   "outputs": [],
   "source": [
    "#mostras columna con nombres\n",
    "df['Lens Name']#.to_numpy()"
   ]
  },
  {
   "cell_type": "code",
   "execution_count": null,
   "metadata": {},
   "outputs": [],
   "source": [
    "#mostrar coords"
   ]
  },
  {
   "cell_type": "markdown",
   "metadata": {},
   "source": [
    "# Manejo de las coordenadas con Astropy\n",
    "\n",
    "check: https://docs.astropy.org/en/stable/coordinates/\n",
    "\n",
    "SkyCoord objects are instantiated by passing in positions (and optional velocities) with specified units and a coordinate frame. Sky positions are commonly passed in as Quantity objects and the frame is specified with the string name. As an example of creating a SkyCoord to represent an ICRS (Right ascension [RA], Declination [Dec]) sky position:"
   ]
  },
  {
   "cell_type": "code",
   "execution_count": null,
   "metadata": {},
   "outputs": [],
   "source": [
    "from astropy.coordinates import SkyCoord\n",
    "from astropy import units as u\n",
    "\n",
    "c = SkyCoord(df['RA (J2000)'].iloc[0],df['Dec (J2000)'].iloc[0], unit=(u.hourangle, u.deg))"
   ]
  },
  {
   "cell_type": "code",
   "execution_count": null,
   "metadata": {},
   "outputs": [],
   "source": [
    "#for loop en todo el df\n"
   ]
  },
  {
   "cell_type": "code",
   "execution_count": null,
   "metadata": {},
   "outputs": [],
   "source": [
    "#salvar variables ra y dec\n",
    "ra = [c[i].ra.degree for i in range(len(df))]\n",
    "dec = [c[i].dec.degree for i in range(len(df))]"
   ]
  },
  {
   "cell_type": "code",
   "execution_count": null,
   "metadata": {},
   "outputs": [],
   "source": [
    "#agregar variables ra y dec al dataframe"
   ]
  },
  {
   "cell_type": "code",
   "execution_count": null,
   "metadata": {},
   "outputs": [],
   "source": [
    "#Seleccionar todos los sistemas con declinaciones menores a 30 y salvar el sub-dataframe\n"
   ]
  },
  {
   "cell_type": "code",
   "execution_count": null,
   "metadata": {},
   "outputs": [],
   "source": [
    "#Seleccionar todos los sistemas entre dec=30 y dec=-60\n"
   ]
  },
  {
   "cell_type": "code",
   "execution_count": null,
   "metadata": {},
   "outputs": [],
   "source": [
    "#Seleccionar todos los sistemas entre dec=30 y dec=-60 que esten clasificados como A\n"
   ]
  },
  {
   "cell_type": "code",
   "execution_count": null,
   "metadata": {},
   "outputs": [],
   "source": [
    "#Seleccionar solo sistemas entre dec=30 y dec=20 que esten clasificados como A y tengan informacion de zs y zl\n",
    "#sdf['zs'].iloc[7]\n"
   ]
  },
  {
   "cell_type": "code",
   "execution_count": null,
   "metadata": {},
   "outputs": [],
   "source": [
    "#si queremos saber que tipo de datos hay almacenados en cada columna (por ejemplo saber si son float, int or strings)\n",
    "sdf.dtypes\n",
    "#Aquellas columnas que tiene tipo 'object' es porque hay un mix de tipos de datos. "
   ]
  },
  {
   "cell_type": "code",
   "execution_count": null,
   "metadata": {},
   "outputs": [],
   "source": [
    "#Arreglar los caracteres de sobra de zl y zs para poder transformar estas series en floats\n",
    "sdf['zl']=sdf.zl.replace(to_replace=['\\(','\\)'], value=\"\", regex=True).astype('float64')\n",
    "sdf['zs']=sdf.zs.replace(to_replace=['1.14/3.93?','\\?'], value=[\"1.14\",''],regex=True).astype('float64')"
   ]
  },
  {
   "cell_type": "code",
   "execution_count": null,
   "metadata": {},
   "outputs": [],
   "source": [
    "sdf.dtypes"
   ]
  },
  {
   "cell_type": "code",
   "execution_count": null,
   "metadata": {},
   "outputs": [],
   "source": [
    "#histograma de zl y zs\n",
    "plt.hist([sdf.zl,sdf.zs],histtype='step',label=['zl','zs'])\n",
    "plt.xlabel('redshift')\n",
    "plt.legend(numpoints=1)"
   ]
  },
  {
   "cell_type": "code",
   "execution_count": null,
   "metadata": {},
   "outputs": [],
   "source": [
    "sdf[['zl','zs']].plot.hist(alpha=0.2)"
   ]
  },
  {
   "cell_type": "markdown",
   "metadata": {},
   "source": [
    "### Ejercicio 1\n",
    "#### Parte a\n",
    "Seleccionar todos los sistemas lentes clasificados 'A' del catalogo con declinaciones entre 30 y -60, con informacion para zl y zs **que tengan Nim=4 (numero de imagenes).**"
   ]
  },
  {
   "cell_type": "code",
   "execution_count": null,
   "metadata": {},
   "outputs": [],
   "source": [
    "sdf1 = #Complete"
   ]
  },
  {
   "cell_type": "markdown",
   "metadata": {},
   "source": [
    "#### Parte b\n",
    "Seleccionar todos los sistemas lentes clasificados 'A' del catalogo con declinaciones entre 30 y -60, con informacion para zl y zs **que tengan Nim=2.**"
   ]
  },
  {
   "cell_type": "code",
   "execution_count": null,
   "metadata": {},
   "outputs": [],
   "source": [
    "sdf2 = #complete"
   ]
  },
  {
   "cell_type": "markdown",
   "metadata": {},
   "source": [
    "#### Parte c\n",
    "\n",
    "Cuantos sistemas con 4/2 imagenes hay?"
   ]
  },
  {
   "cell_type": "code",
   "execution_count": null,
   "metadata": {},
   "outputs": [],
   "source": [
    "print(#complete\n",
    "print(#complete"
   ]
  },
  {
   "cell_type": "markdown",
   "metadata": {},
   "source": [
    "#### Parte d\n",
    "\n",
    "Realizar histogramas comparativos entre las dos muestras para el redshift de la fuente y de la lente."
   ]
  },
  {
   "cell_type": "code",
   "execution_count": null,
   "metadata": {},
   "outputs": [],
   "source": [
    "sdf2['zl']=sdf2.zl.replace(#complete\n",
    "\n",
    "plt.hist(#complete\n",
    "plt.xlabel('redshift lens')\n",
    "plt.legend(numpoints=1)\n",
    "plt.show()\n",
    "plt.close()\n",
    "\n",
    "plt.hist(#complete\n",
    "plt.xlabel('redshift source')\n",
    "plt.legend(numpoints=1)"
   ]
  },
  {
   "cell_type": "markdown",
   "metadata": {},
   "source": [
    "# Usar archivos fits con astropy"
   ]
  },
  {
   "cell_type": "code",
   "execution_count": null,
   "metadata": {},
   "outputs": [],
   "source": [
    "folder_lentes = '/home/karina/Dropbox/Class_lens/fits_lentes_F160W/'\n",
    "\n",
    "import glob\n",
    "\n",
    "#crear un arreglo de carpetas\n"
   ]
  },
  {
   "cell_type": "code",
   "execution_count": null,
   "metadata": {},
   "outputs": [],
   "source": [
    "files = [glob.glob(folders[i]+'/*') for i in range(len(folders))]"
   ]
  },
  {
   "cell_type": "code",
   "execution_count": null,
   "metadata": {},
   "outputs": [],
   "source": [
    "#vamos a abrir los archivos fits usando astropy\n",
    "from astropy.io import fits\n",
    "hdul = fits.open(files[0][0]) #hdul means Header Data Unit List"
   ]
  },
  {
   "cell_type": "code",
   "execution_count": null,
   "metadata": {},
   "outputs": [],
   "source": [
    "#Para revisar la informacion de esta lista:\n"
   ]
  },
  {
   "cell_type": "markdown",
   "metadata": {},
   "source": [
    "Segun https://www.cosmos.esa.int/web/hst/acs-file-names\n",
    "\n",
    "- SCI extension contains the distortion-corrected data (32-bit float)\n",
    "- WHT extension contains the weight mask (32-bit float)\n",
    "- CTX extension contains the context image (32-bit integer)."
   ]
  },
  {
   "cell_type": "code",
   "execution_count": null,
   "metadata": {},
   "outputs": [],
   "source": [
    "#Para ver y utilizar el header \n"
   ]
  },
  {
   "cell_type": "code",
   "execution_count": null,
   "metadata": {},
   "outputs": [],
   "source": [
    "#ver sci data\n"
   ]
  },
  {
   "cell_type": "code",
   "execution_count": null,
   "metadata": {},
   "outputs": [],
   "source": [
    "#graficar data\n"
   ]
  },
  {
   "cell_type": "code",
   "execution_count": null,
   "metadata": {},
   "outputs": [],
   "source": [
    "#cambiar a escala log\n"
   ]
  },
  {
   "cell_type": "code",
   "execution_count": null,
   "metadata": {},
   "outputs": [],
   "source": [
    "#hace un zoom\n"
   ]
  },
  {
   "cell_type": "markdown",
   "metadata": {},
   "source": [
    "## Challenge exercise\n",
    "\n",
    "### parte a\n",
    "Usando las cordenadas del objeto cortar la imagen fits.\n",
    "\n",
    "**hint: from astropy.wcs import WCS puede ser util!**\n",
    "### parte b\n",
    "Crear una definicion que permita automaticamente graficar la imagen con la escala deseada. \n",
    "\n",
    "**hint: obtener el valor aproximado del background puede ayudar a configurar vmin automaticamente**\n"
   ]
  },
  {
   "cell_type": "markdown",
   "metadata": {},
   "source": [
    "## Recursos:\n",
    "\n",
    "graficos: https://python-graph-gallery.com/\n",
    "\n",
    "Astropy: http://learn.astropy.org/\n",
    "\n",
    "Pandas: Es una herramienta de analisis de datos, rapida, flexible y facil de usar!\n",
    "https://pandas.pydata.org/getting_started.html\n"
   ]
  }
 ],
 "metadata": {
  "kernelspec": {
   "display_name": "Python 3",
   "language": "python",
   "name": "python3"
  },
  "language_info": {
   "codemirror_mode": {
    "name": "ipython",
    "version": 3
   },
   "file_extension": ".py",
   "mimetype": "text/x-python",
   "name": "python",
   "nbconvert_exporter": "python",
   "pygments_lexer": "ipython3",
   "version": "3.7.4"
  }
 },
 "nbformat": 4,
 "nbformat_minor": 2
}
